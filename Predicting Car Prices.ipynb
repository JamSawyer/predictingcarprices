{
 "cells": [
  {
   "cell_type": "code",
   "execution_count": 2,
   "metadata": {
    "collapsed": false
   },
   "outputs": [
    {
     "data": {
      "text/html": [
       "<div>\n",
       "<table border=\"1\" class=\"dataframe\">\n",
       "  <thead>\n",
       "    <tr style=\"text-align: right;\">\n",
       "      <th></th>\n",
       "      <th>symboling</th>\n",
       "      <th>normalized_losses</th>\n",
       "      <th>make</th>\n",
       "      <th>fuel_type</th>\n",
       "      <th>aspiration</th>\n",
       "      <th>num_doors</th>\n",
       "      <th>body_style</th>\n",
       "      <th>drive_wheels</th>\n",
       "      <th>engine_location</th>\n",
       "      <th>wheel_base</th>\n",
       "      <th>...</th>\n",
       "      <th>engine_size</th>\n",
       "      <th>fuel_system</th>\n",
       "      <th>bore</th>\n",
       "      <th>stroke</th>\n",
       "      <th>compression_ratio</th>\n",
       "      <th>horsepower</th>\n",
       "      <th>peak_rpm</th>\n",
       "      <th>city_mpg</th>\n",
       "      <th>highway_mpg</th>\n",
       "      <th>price</th>\n",
       "    </tr>\n",
       "  </thead>\n",
       "  <tbody>\n",
       "    <tr>\n",
       "      <th>0</th>\n",
       "      <td>3</td>\n",
       "      <td>?</td>\n",
       "      <td>alfa-romero</td>\n",
       "      <td>gas</td>\n",
       "      <td>std</td>\n",
       "      <td>two</td>\n",
       "      <td>convertible</td>\n",
       "      <td>rwd</td>\n",
       "      <td>front</td>\n",
       "      <td>88.6</td>\n",
       "      <td>...</td>\n",
       "      <td>130</td>\n",
       "      <td>mpfi</td>\n",
       "      <td>3.47</td>\n",
       "      <td>2.68</td>\n",
       "      <td>9.0</td>\n",
       "      <td>111</td>\n",
       "      <td>5000</td>\n",
       "      <td>21</td>\n",
       "      <td>27</td>\n",
       "      <td>13495</td>\n",
       "    </tr>\n",
       "    <tr>\n",
       "      <th>1</th>\n",
       "      <td>3</td>\n",
       "      <td>?</td>\n",
       "      <td>alfa-romero</td>\n",
       "      <td>gas</td>\n",
       "      <td>std</td>\n",
       "      <td>two</td>\n",
       "      <td>convertible</td>\n",
       "      <td>rwd</td>\n",
       "      <td>front</td>\n",
       "      <td>88.6</td>\n",
       "      <td>...</td>\n",
       "      <td>130</td>\n",
       "      <td>mpfi</td>\n",
       "      <td>3.47</td>\n",
       "      <td>2.68</td>\n",
       "      <td>9.0</td>\n",
       "      <td>111</td>\n",
       "      <td>5000</td>\n",
       "      <td>21</td>\n",
       "      <td>27</td>\n",
       "      <td>16500</td>\n",
       "    </tr>\n",
       "    <tr>\n",
       "      <th>2</th>\n",
       "      <td>1</td>\n",
       "      <td>?</td>\n",
       "      <td>alfa-romero</td>\n",
       "      <td>gas</td>\n",
       "      <td>std</td>\n",
       "      <td>two</td>\n",
       "      <td>hatchback</td>\n",
       "      <td>rwd</td>\n",
       "      <td>front</td>\n",
       "      <td>94.5</td>\n",
       "      <td>...</td>\n",
       "      <td>152</td>\n",
       "      <td>mpfi</td>\n",
       "      <td>2.68</td>\n",
       "      <td>3.47</td>\n",
       "      <td>9.0</td>\n",
       "      <td>154</td>\n",
       "      <td>5000</td>\n",
       "      <td>19</td>\n",
       "      <td>26</td>\n",
       "      <td>16500</td>\n",
       "    </tr>\n",
       "    <tr>\n",
       "      <th>3</th>\n",
       "      <td>2</td>\n",
       "      <td>164</td>\n",
       "      <td>audi</td>\n",
       "      <td>gas</td>\n",
       "      <td>std</td>\n",
       "      <td>four</td>\n",
       "      <td>sedan</td>\n",
       "      <td>fwd</td>\n",
       "      <td>front</td>\n",
       "      <td>99.8</td>\n",
       "      <td>...</td>\n",
       "      <td>109</td>\n",
       "      <td>mpfi</td>\n",
       "      <td>3.19</td>\n",
       "      <td>3.40</td>\n",
       "      <td>10.0</td>\n",
       "      <td>102</td>\n",
       "      <td>5500</td>\n",
       "      <td>24</td>\n",
       "      <td>30</td>\n",
       "      <td>13950</td>\n",
       "    </tr>\n",
       "    <tr>\n",
       "      <th>4</th>\n",
       "      <td>2</td>\n",
       "      <td>164</td>\n",
       "      <td>audi</td>\n",
       "      <td>gas</td>\n",
       "      <td>std</td>\n",
       "      <td>four</td>\n",
       "      <td>sedan</td>\n",
       "      <td>4wd</td>\n",
       "      <td>front</td>\n",
       "      <td>99.4</td>\n",
       "      <td>...</td>\n",
       "      <td>136</td>\n",
       "      <td>mpfi</td>\n",
       "      <td>3.19</td>\n",
       "      <td>3.40</td>\n",
       "      <td>8.0</td>\n",
       "      <td>115</td>\n",
       "      <td>5500</td>\n",
       "      <td>18</td>\n",
       "      <td>22</td>\n",
       "      <td>17450</td>\n",
       "    </tr>\n",
       "  </tbody>\n",
       "</table>\n",
       "<p>5 rows × 26 columns</p>\n",
       "</div>"
      ],
      "text/plain": [
       "   symboling normalized_losses         make fuel_type aspiration num_doors  \\\n",
       "0          3                 ?  alfa-romero       gas        std       two   \n",
       "1          3                 ?  alfa-romero       gas        std       two   \n",
       "2          1                 ?  alfa-romero       gas        std       two   \n",
       "3          2               164         audi       gas        std      four   \n",
       "4          2               164         audi       gas        std      four   \n",
       "\n",
       "    body_style drive_wheels engine_location  wheel_base  ...    engine_size  \\\n",
       "0  convertible          rwd           front        88.6  ...            130   \n",
       "1  convertible          rwd           front        88.6  ...            130   \n",
       "2    hatchback          rwd           front        94.5  ...            152   \n",
       "3        sedan          fwd           front        99.8  ...            109   \n",
       "4        sedan          4wd           front        99.4  ...            136   \n",
       "\n",
       "   fuel_system  bore  stroke compression_ratio horsepower  peak_rpm city_mpg  \\\n",
       "0         mpfi  3.47    2.68               9.0        111      5000       21   \n",
       "1         mpfi  3.47    2.68               9.0        111      5000       21   \n",
       "2         mpfi  2.68    3.47               9.0        154      5000       19   \n",
       "3         mpfi  3.19    3.40              10.0        102      5500       24   \n",
       "4         mpfi  3.19    3.40               8.0        115      5500       18   \n",
       "\n",
       "  highway_mpg  price  \n",
       "0          27  13495  \n",
       "1          27  16500  \n",
       "2          26  16500  \n",
       "3          30  13950  \n",
       "4          22  17450  \n",
       "\n",
       "[5 rows x 26 columns]"
      ]
     },
     "execution_count": 2,
     "metadata": {},
     "output_type": "execute_result"
    }
   ],
   "source": [
    "#Read imports-85.data into a dataframe, cars, assigning columns parameter to predetermined column headers from the datasource.\n",
    "import pandas as pd\n",
    "columns = ['symboling','normalized_losses','make', 'fuel_type','aspiration','num_doors','body_style','drive_wheels','engine_location','wheel_base','length','width', 'height','curb_weight','engine_type', 'num_cylinders', 'engine_size', 'fuel_system', 'bore', 'stroke','compression_ratio','horsepower','peak_rpm','city_mpg', 'highway_mpg','price']\n",
    "cars = pd.read_csv(\"imports-85.data\", names=columns)\n",
    "cars.head()\n"
   ]
  },
  {
   "cell_type": "markdown",
   "metadata": {},
   "source": [
    "## Numeric columns - features and target columns\n",
    "\n",
    "Based on the preview of the cars dataset, the columns that could be used as features in a machine learning model could be: normalized_losses, wheel_base, length, width, height, curb_weight, engine_size, bore, stroke, compression_ratio, horsepower, peak_rpm, city_mpg, and highway_mpg. \n",
    "\n",
    "The price column should be the target column.\n",
    "\n",
    "We usually can't have missing values in predictive modeling. Based on the data preview, there is missing information in the normalized-losses column. To clean this, we will replace these missing values and look for other missing values in numeric columns. We will also rescale all values to range from 0 to 1.\n"
   ]
  },
  {
   "cell_type": "code",
   "execution_count": 4,
   "metadata": {
    "collapsed": false
   },
   "outputs": [
    {
     "data": {
      "text/html": [
       "<div>\n",
       "<table border=\"1\" class=\"dataframe\">\n",
       "  <thead>\n",
       "    <tr style=\"text-align: right;\">\n",
       "      <th></th>\n",
       "      <th>symboling</th>\n",
       "      <th>normalized_losses</th>\n",
       "      <th>make</th>\n",
       "      <th>fuel_type</th>\n",
       "      <th>aspiration</th>\n",
       "      <th>num_doors</th>\n",
       "      <th>body_style</th>\n",
       "      <th>drive_wheels</th>\n",
       "      <th>engine_location</th>\n",
       "      <th>wheel_base</th>\n",
       "      <th>...</th>\n",
       "      <th>engine_size</th>\n",
       "      <th>fuel_system</th>\n",
       "      <th>bore</th>\n",
       "      <th>stroke</th>\n",
       "      <th>compression_ratio</th>\n",
       "      <th>horsepower</th>\n",
       "      <th>peak_rpm</th>\n",
       "      <th>city_mpg</th>\n",
       "      <th>highway_mpg</th>\n",
       "      <th>price</th>\n",
       "    </tr>\n",
       "  </thead>\n",
       "  <tbody>\n",
       "    <tr>\n",
       "      <th>0</th>\n",
       "      <td>3</td>\n",
       "      <td>NaN</td>\n",
       "      <td>alfa-romero</td>\n",
       "      <td>gas</td>\n",
       "      <td>std</td>\n",
       "      <td>two</td>\n",
       "      <td>convertible</td>\n",
       "      <td>rwd</td>\n",
       "      <td>front</td>\n",
       "      <td>88.6</td>\n",
       "      <td>...</td>\n",
       "      <td>130</td>\n",
       "      <td>mpfi</td>\n",
       "      <td>3.47</td>\n",
       "      <td>2.68</td>\n",
       "      <td>9.0</td>\n",
       "      <td>111</td>\n",
       "      <td>5000</td>\n",
       "      <td>21</td>\n",
       "      <td>27</td>\n",
       "      <td>13495</td>\n",
       "    </tr>\n",
       "    <tr>\n",
       "      <th>1</th>\n",
       "      <td>3</td>\n",
       "      <td>NaN</td>\n",
       "      <td>alfa-romero</td>\n",
       "      <td>gas</td>\n",
       "      <td>std</td>\n",
       "      <td>two</td>\n",
       "      <td>convertible</td>\n",
       "      <td>rwd</td>\n",
       "      <td>front</td>\n",
       "      <td>88.6</td>\n",
       "      <td>...</td>\n",
       "      <td>130</td>\n",
       "      <td>mpfi</td>\n",
       "      <td>3.47</td>\n",
       "      <td>2.68</td>\n",
       "      <td>9.0</td>\n",
       "      <td>111</td>\n",
       "      <td>5000</td>\n",
       "      <td>21</td>\n",
       "      <td>27</td>\n",
       "      <td>16500</td>\n",
       "    </tr>\n",
       "    <tr>\n",
       "      <th>2</th>\n",
       "      <td>1</td>\n",
       "      <td>NaN</td>\n",
       "      <td>alfa-romero</td>\n",
       "      <td>gas</td>\n",
       "      <td>std</td>\n",
       "      <td>two</td>\n",
       "      <td>hatchback</td>\n",
       "      <td>rwd</td>\n",
       "      <td>front</td>\n",
       "      <td>94.5</td>\n",
       "      <td>...</td>\n",
       "      <td>152</td>\n",
       "      <td>mpfi</td>\n",
       "      <td>2.68</td>\n",
       "      <td>3.47</td>\n",
       "      <td>9.0</td>\n",
       "      <td>154</td>\n",
       "      <td>5000</td>\n",
       "      <td>19</td>\n",
       "      <td>26</td>\n",
       "      <td>16500</td>\n",
       "    </tr>\n",
       "    <tr>\n",
       "      <th>3</th>\n",
       "      <td>2</td>\n",
       "      <td>164</td>\n",
       "      <td>audi</td>\n",
       "      <td>gas</td>\n",
       "      <td>std</td>\n",
       "      <td>four</td>\n",
       "      <td>sedan</td>\n",
       "      <td>fwd</td>\n",
       "      <td>front</td>\n",
       "      <td>99.8</td>\n",
       "      <td>...</td>\n",
       "      <td>109</td>\n",
       "      <td>mpfi</td>\n",
       "      <td>3.19</td>\n",
       "      <td>3.40</td>\n",
       "      <td>10.0</td>\n",
       "      <td>102</td>\n",
       "      <td>5500</td>\n",
       "      <td>24</td>\n",
       "      <td>30</td>\n",
       "      <td>13950</td>\n",
       "    </tr>\n",
       "    <tr>\n",
       "      <th>4</th>\n",
       "      <td>2</td>\n",
       "      <td>164</td>\n",
       "      <td>audi</td>\n",
       "      <td>gas</td>\n",
       "      <td>std</td>\n",
       "      <td>four</td>\n",
       "      <td>sedan</td>\n",
       "      <td>4wd</td>\n",
       "      <td>front</td>\n",
       "      <td>99.4</td>\n",
       "      <td>...</td>\n",
       "      <td>136</td>\n",
       "      <td>mpfi</td>\n",
       "      <td>3.19</td>\n",
       "      <td>3.40</td>\n",
       "      <td>8.0</td>\n",
       "      <td>115</td>\n",
       "      <td>5500</td>\n",
       "      <td>18</td>\n",
       "      <td>22</td>\n",
       "      <td>17450</td>\n",
       "    </tr>\n",
       "  </tbody>\n",
       "</table>\n",
       "<p>5 rows × 26 columns</p>\n",
       "</div>"
      ],
      "text/plain": [
       "   symboling normalized_losses         make fuel_type aspiration num_doors  \\\n",
       "0          3               NaN  alfa-romero       gas        std       two   \n",
       "1          3               NaN  alfa-romero       gas        std       two   \n",
       "2          1               NaN  alfa-romero       gas        std       two   \n",
       "3          2               164         audi       gas        std      four   \n",
       "4          2               164         audi       gas        std      four   \n",
       "\n",
       "    body_style drive_wheels engine_location  wheel_base  ...    engine_size  \\\n",
       "0  convertible          rwd           front        88.6  ...            130   \n",
       "1  convertible          rwd           front        88.6  ...            130   \n",
       "2    hatchback          rwd           front        94.5  ...            152   \n",
       "3        sedan          fwd           front        99.8  ...            109   \n",
       "4        sedan          4wd           front        99.4  ...            136   \n",
       "\n",
       "   fuel_system  bore  stroke compression_ratio horsepower  peak_rpm city_mpg  \\\n",
       "0         mpfi  3.47    2.68               9.0        111      5000       21   \n",
       "1         mpfi  3.47    2.68               9.0        111      5000       21   \n",
       "2         mpfi  2.68    3.47               9.0        154      5000       19   \n",
       "3         mpfi  3.19    3.40              10.0        102      5500       24   \n",
       "4         mpfi  3.19    3.40               8.0        115      5500       18   \n",
       "\n",
       "  highway_mpg  price  \n",
       "0          27  13495  \n",
       "1          27  16500  \n",
       "2          26  16500  \n",
       "3          30  13950  \n",
       "4          22  17450  \n",
       "\n",
       "[5 rows x 26 columns]"
      ]
     },
     "execution_count": 4,
     "metadata": {},
     "output_type": "execute_result"
    }
   ],
   "source": [
    "import numpy as np\n",
    "cars= cars.replace('?', np.nan)\n",
    "cars.head()"
   ]
  },
  {
   "cell_type": "code",
   "execution_count": 4,
   "metadata": {
    "collapsed": false
   },
   "outputs": [
    {
     "data": {
      "text/plain": [
       "symboling              int64\n",
       "normalized_losses     object\n",
       "make                  object\n",
       "fuel_type             object\n",
       "aspiration            object\n",
       "num_doors             object\n",
       "body_style            object\n",
       "drive_wheels          object\n",
       "engine_location       object\n",
       "wheel_base           float64\n",
       "length               float64\n",
       "width                float64\n",
       "height               float64\n",
       "curb_weight            int64\n",
       "engine_type           object\n",
       "num_cylinders         object\n",
       "engine_size            int64\n",
       "fuel_system           object\n",
       "bore                  object\n",
       "stroke                object\n",
       "compression_ratio    float64\n",
       "horsepower            object\n",
       "peak_rpm              object\n",
       "city_mpg               int64\n",
       "highway_mpg            int64\n",
       "price                 object\n",
       "dtype: object"
      ]
     },
     "execution_count": 4,
     "metadata": {},
     "output_type": "execute_result"
    }
   ],
   "source": [
    "cars.dtypes"
   ]
  },
  {
   "cell_type": "markdown",
   "metadata": {},
   "source": [
    "## Column types in cars dataset\n",
    "\n",
    "The table above shows all of the types for the cars columns. For the feature columns I would like to examine, I will need to convert the following to floats: normalized_losses, bore, stroke, horsepower, peak_rpm, and price.\n"
   ]
  },
  {
   "cell_type": "code",
   "execution_count": 5,
   "metadata": {
    "collapsed": false
   },
   "outputs": [],
   "source": [
    "numeric_columns = ['normalized_losses', 'wheel_base', 'length', 'width', 'height', 'curb_weight', 'bore', 'stroke', 'compression_ratio', 'horsepower', 'peak_rpm', 'city_mpg', 'highway_mpg', 'price']\n",
    "cars_numeric = cars[numeric_columns]"
   ]
  },
  {
   "cell_type": "code",
   "execution_count": 6,
   "metadata": {
    "collapsed": false
   },
   "outputs": [
    {
     "data": {
      "text/plain": [
       "normalized_losses    41\n",
       "wheel_base            0\n",
       "length                0\n",
       "width                 0\n",
       "height                0\n",
       "curb_weight           0\n",
       "bore                  4\n",
       "stroke                4\n",
       "compression_ratio     0\n",
       "horsepower            2\n",
       "peak_rpm              2\n",
       "city_mpg              0\n",
       "highway_mpg           0\n",
       "price                 4\n",
       "dtype: int64"
      ]
     },
     "execution_count": 6,
     "metadata": {},
     "output_type": "execute_result"
    }
   ],
   "source": [
    "cars_numeric.isnull().sum()\n",
    "#It appears that 41 out of 204 rows in Normalized_Losses have missing values. I will choose to drop the column from the dataset, instead of using the avg value or dropping the rows.\n",
    "#I will need to explore what other numeric columns have missing values."
   ]
  },
  {
   "cell_type": "code",
   "execution_count": 7,
   "metadata": {
    "collapsed": false
   },
   "outputs": [
    {
     "data": {
      "text/plain": [
       "normalized_losses    37\n",
       "wheel_base            0\n",
       "length                0\n",
       "width                 0\n",
       "height                0\n",
       "curb_weight           0\n",
       "bore                  4\n",
       "stroke                4\n",
       "compression_ratio     0\n",
       "horsepower            2\n",
       "peak_rpm              2\n",
       "city_mpg              0\n",
       "highway_mpg           0\n",
       "price                 0\n",
       "dtype: int64"
      ]
     },
     "execution_count": 7,
     "metadata": {},
     "output_type": "execute_result"
    }
   ],
   "source": [
    "##I removed rows with missing prices, as this is the target feature for the model.\n",
    "\n",
    "cars_numeric = cars_numeric.dropna(subset=['price'])\n",
    "cars_numeric = cars_numeric.astype('float')\n",
    "cars_numeric.isnull().sum()"
   ]
  },
  {
   "cell_type": "code",
   "execution_count": 8,
   "metadata": {
    "collapsed": false
   },
   "outputs": [],
   "source": [
    "#for the missing values in the dataset, I plugged in the column mean.\n",
    "cars_numeric = cars_numeric.fillna((cars_numeric.mean()), inplace=True)"
   ]
  },
  {
   "cell_type": "code",
   "execution_count": 9,
   "metadata": {
    "collapsed": false
   },
   "outputs": [
    {
     "data": {
      "text/plain": [
       "normalized_losses    0\n",
       "wheel_base           0\n",
       "length               0\n",
       "width                0\n",
       "height               0\n",
       "curb_weight          0\n",
       "bore                 0\n",
       "stroke               0\n",
       "compression_ratio    0\n",
       "horsepower           0\n",
       "peak_rpm             0\n",
       "city_mpg             0\n",
       "highway_mpg          0\n",
       "price                0\n",
       "dtype: int64"
      ]
     },
     "execution_count": 9,
     "metadata": {},
     "output_type": "execute_result"
    }
   ],
   "source": [
    "cars_numeric.isnull().sum()"
   ]
  },
  {
   "cell_type": "code",
   "execution_count": 10,
   "metadata": {
    "collapsed": false
   },
   "outputs": [],
   "source": [
    "#Normalized columns with range 0 to 1, except for price (target column)\n",
    "price_col = cars_numeric['price']\n",
    "cars_numeric = (cars_numeric - cars_numeric.min()) / (cars_numeric.max() - cars_numeric.min())\n",
    "cars_numeric['price'] = price_col"
   ]
  },
  {
   "cell_type": "code",
   "execution_count": 11,
   "metadata": {
    "collapsed": false
   },
   "outputs": [
    {
     "data": {
      "text/plain": [
       "{'bore': 8173.1677172389927,\n",
       " 'city_mpg': 3635.9338845128937,\n",
       " 'compression_ratio': 5676.2812812200746,\n",
       " 'curb_weight': 2467.1015390375746,\n",
       " 'height': 6575.6811825177201,\n",
       " 'highway_mpg': 2890.5559529029615,\n",
       " 'horsepower': 3822.8885837703365,\n",
       " 'length': 6931.0799645721963,\n",
       " 'normalized_losses': 9165.3720971499934,\n",
       " 'peak_rpm': 7112.6658995366406,\n",
       " 'stroke': 7674.2126108717339,\n",
       " 'wheel_base': 5600.275810224728,\n",
       " 'width': 3816.7939591068457}"
      ]
     },
     "execution_count": 11,
     "metadata": {},
     "output_type": "execute_result"
    }
   ],
   "source": [
    "#created a function w/ three parameters that encapsulates the training and simple validation process.\n",
    "from sklearn.neighbors import KNeighborsRegressor\n",
    "from sklearn.metrics import mean_squared_error \n",
    "def knn_train_test(training, target, dataframe_object):\n",
    "    knn = KNeighborsRegressor()\n",
    "    np.random.seed(1)\n",
    "    shuffled_index = np.random.permutation(dataframe_object.index)\n",
    "    rand_df = dataframe_object.reindex(shuffled_index)\n",
    "    \n",
    "    train_cars = dataframe_object.iloc[0:150]\n",
    "    test_cars = dataframe_object.iloc[150:]\n",
    "    knn.fit(train_cars[[training]], train_cars[target])\n",
    "    predictions = knn.predict(test_cars[[training]])\n",
    "    one_feature_mse = mean_squared_error(test_cars[target], predictions)\n",
    "    one_feature_rmse = one_feature_mse ** (1/2)\n",
    "    return one_feature_rmse\n",
    "\n",
    "train_cols = cars_numeric.drop(['price'], axis=1)\n",
    "rmse_results = {}\n",
    "\n",
    "for c in train_cols:\n",
    "    rmse = knn_train_test(c, 'price', cars_numeric)\n",
    "    rmse_results[c] = rmse\n",
    "rmse_results\n",
    "\n",
    "    \n",
    "                                        \n",
    "    \n",
    "    "
   ]
  },
  {
   "cell_type": "code",
   "execution_count": 13,
   "metadata": {
    "collapsed": false
   },
   "outputs": [
    {
     "data": {
      "text/plain": [
       "{'bore': {1: 7501.2588721271759,\n",
       "  3: 9582.4777842601216,\n",
       "  5: 8173.1677172389927,\n",
       "  7: 7789.2318468707635,\n",
       "  9: 6517.1762684958403},\n",
       " 'city_mpg': {1: 5352.0667439198241,\n",
       "  3: 3513.8566690506614,\n",
       "  5: 3635.9338845128937,\n",
       "  7: 3419.6128029776878,\n",
       "  9: 3292.4684712581534},\n",
       " 'compression_ratio': {1: 9685.3038945307107,\n",
       "  3: 4311.2826152632388,\n",
       "  5: 5676.2812812200746,\n",
       "  7: 6623.0116230294743,\n",
       "  9: 6261.6263394320777},\n",
       " 'curb_weight': {1: 3708.950345672838,\n",
       "  3: 2512.7548895736436,\n",
       "  5: 2467.1015390375746,\n",
       "  7: 2654.0573859363212,\n",
       "  9: 2635.0344097095631},\n",
       " 'height': {1: 11902.790106261871,\n",
       "  3: 8573.6198498053345,\n",
       "  5: 6575.6811825177201,\n",
       "  7: 6255.2948201115669,\n",
       "  9: 5494.6852283946373},\n",
       " 'highway_mpg': {1: 4197.2298217360685,\n",
       "  3: 3951.1269341934503,\n",
       "  5: 2890.5559529029615,\n",
       "  7: 2520.4574783876328,\n",
       "  9: 2357.0253997212271},\n",
       " 'horsepower': {1: 4944.2978367043397,\n",
       "  3: 4260.5322621548994,\n",
       "  5: 3822.8885837703365,\n",
       "  7: 3937.8279681624913,\n",
       "  9: 3660.4645019956647},\n",
       " 'length': {1: 8344.6803660634432,\n",
       "  3: 5981.2770743451729,\n",
       "  5: 6931.0799645721963,\n",
       "  7: 5851.8913492430238,\n",
       "  9: 5101.5364828489437},\n",
       " 'normalized_losses': {1: 9753.2694327313129,\n",
       "  3: 10698.960392861421,\n",
       "  5: 9165.3720971499934,\n",
       "  7: 7924.9287113280616,\n",
       "  9: 7297.763011443536},\n",
       " 'peak_rpm': {1: 12882.620617731167,\n",
       "  3: 9441.9164045218167,\n",
       "  5: 7112.6658995366406,\n",
       "  7: 6905.7439197260956,\n",
       "  9: 6643.591698071903},\n",
       " 'stroke': {1: 13710.513661520676,\n",
       "  3: 9745.6349592096831,\n",
       "  5: 7674.2126108717339,\n",
       "  7: 5860.8221142380617,\n",
       "  9: 4827.3153915623852},\n",
       " 'wheel_base': {1: 3367.4945594377932,\n",
       "  3: 5214.5819576898066,\n",
       "  5: 5600.275810224728,\n",
       "  7: 5384.5577261240669,\n",
       "  9: 5066.7176556171862},\n",
       " 'width': {1: 6384.8952299970606,\n",
       "  3: 4932.8631305245044,\n",
       "  5: 3816.7939591068457,\n",
       "  7: 3361.4423824239707,\n",
       "  9: 3389.7175118250443}}"
      ]
     },
     "execution_count": 13,
     "metadata": {},
     "output_type": "execute_result"
    }
   ],
   "source": [
    "# I modified the function above to accept a parameter for k value.\n",
    "k_rmse_results = {}\n",
    "def knn_train_test(training, target, dataframe_object):\n",
    "    np.random.seed(1)\n",
    "    shuffled_index = np.random.permutation(dataframe_object.index)\n",
    "    rand_df = dataframe_object.reindex(shuffled_index)\n",
    "    \n",
    "    train_cars = dataframe_object.iloc[0:150]\n",
    "    test_cars = dataframe_object.iloc[150:]\n",
    "    \n",
    "    k_values = [1,3,5,7,9]\n",
    "    k_rmse = {}\n",
    "    \n",
    "    for k in k_values:\n",
    "        knn = KNeighborsRegressor(n_neighbors = k)\n",
    "        knn.fit(train_cars[[training]], train_cars[[target]])\n",
    "        predictions = knn.predict(test_cars[[training]])\n",
    "        k_feature_mse = mean_squared_error(test_cars[target], predictions)\n",
    "        k_feature_rmse = k_feature_mse ** (1/2)\n",
    "        k_rmse[k] = k_feature_rmse\n",
    "    return k_rmse\n",
    "\n",
    "train_cols = cars_numeric.drop(['price'], axis=1)\n",
    "for col in train_cols:\n",
    "    rmse_val = knn_train_test(col, 'price', cars_numeric)\n",
    "    k_rmse_results[col] = rmse_val\n",
    "k_rmse_results"
   ]
  },
  {
   "cell_type": "code",
   "execution_count": 14,
   "metadata": {
    "collapsed": false
   },
   "outputs": [
    {
     "data": {
      "image/png": "[encoded data removed]",
      "text/plain": [
       "<matplotlib.figure.Figure at 0x7fcba69551d0>"
      ]
     },
     "metadata": {},
     "output_type": "display_data"
    }
   ],
   "source": [
    "import matplotlib.pyplot as plt\n",
    "%matplotlib inline\n",
    "\n",
    "for k,v in k_rmse_results.items():\n",
    "    x = list(v.keys())\n",
    "    y = list(v.values())\n",
    "    \n",
    "    plt.plot(x,y)\n",
    "    plt.xlabel('k value')\n",
    "    plt.ylabel('RMSE')\n",
    "plt.show()"
   ]
  },
  {
   "cell_type": "code",
   "execution_count": 19,
   "metadata": {
    "collapsed": false
   },
   "outputs": [
    {
     "data": {
      "text/plain": [
       "{'top five': 2099.9169580219677,\n",
       " 'top four': 2371.3760332305778,\n",
       " 'top three': 2276.0853104381122,\n",
       " 'top two': 3071.6276959854845}"
      ]
     },
     "execution_count": 19,
     "metadata": {},
     "output_type": "execute_result"
    }
   ],
   "source": [
    "#modified function to accept a list of column names, instead of a string.\n",
    "k_rmse_results = {}\n",
    "def knn_train_test(training, target, dataframe_object):\n",
    "    np.random.seed(1)\n",
    "    shuffled_index = np.random.permutation(dataframe_object.index)\n",
    "    rand_df = dataframe_object.reindex(shuffled_index)\n",
    "    \n",
    "    train_cars = dataframe_object.iloc[0:150]\n",
    "    test_cars = dataframe_object.iloc[150:]\n",
    "        \n",
    "    knn = KNeighborsRegressor()\n",
    "    knn.fit(train_cars[training], train_cars[target])\n",
    "    predictions = knn.predict(test_cars[training])\n",
    "    feature_mse = mean_squared_error(test_cars[target], predictions)\n",
    "    feature_rmse = feature_mse ** (1/2)\n",
    "    return feature_rmse\n",
    "\n",
    "train_cols = cars_numeric.drop(['price'], axis=1)\n",
    "\n",
    "top_two = ['curb_weight', 'highway_mpg']\n",
    "top_three = ['curb_weight', 'highway_mpg', 'city_mpg']\n",
    "top_four = ['curb_weight', 'highway_mpg', 'city_mpg', 'width']\n",
    "top_five = ['curb_weight', 'highway_mpg', 'city_mpg', 'width', 'horsepower']\n",
    "\n",
    "rmse_val_two = knn_train_test(top_two, 'price', cars_numeric)\n",
    "k_rmse_results[\"top two\"] = rmse_val_two\n",
    "\n",
    "rmse_val_three = knn_train_test(top_three, 'price', cars_numeric)\n",
    "k_rmse_results[\"top three\"] = rmse_val_three\n",
    "\n",
    "rmse_val_four = knn_train_test(top_four, 'price', cars_numeric)\n",
    "k_rmse_results[\"top four\"] = rmse_val_four\n",
    "\n",
    "rmse_val_five = knn_train_test(top_five, 'price', cars_numeric)\n",
    "k_rmse_results[\"top five\"] = rmse_val_five\n",
    "\n",
    "k_rmse_results"
   ]
  },
  {
   "cell_type": "code",
   "execution_count": 27,
   "metadata": {
    "collapsed": false
   },
   "outputs": [
    {
     "data": {
      "image/png": "[encoded data removed]",
      "text/plain": [
       "<matplotlib.figure.Figure at 0x7fcb6d1ccba8>"
      ]
     },
     "metadata": {},
     "output_type": "display_data"
    },
    {
     "data": {
      "image/png": "[encoded data removed]",
      "text/plain": [
       "<matplotlib.figure.Figure at 0x7fcb6d1a7cc0>"
      ]
     },
     "metadata": {},
     "output_type": "display_data"
    },
    {
     "data": {
      "image/png": "[encoded data removed]",
      "text/plain": [
       "<matplotlib.figure.Figure at 0x7fcb6d264ef0>"
      ]
     },
     "metadata": {},
     "output_type": "display_data"
    }
   ],
   "source": [
    "# top three models use three, four, and five features. \n",
    "#Below I varied the hyperparameter value from 1 to 25 and plotted the resulting RMSE values.\n",
    "\n",
    "features = ['curb_weight', 'highway_mpg', 'city_mpg', 'width', 'horsepower']\n",
    "hyper_params = [x for x in range(1, 25)]\n",
    "train_cars = cars_numeric.iloc[0:150]\n",
    "test_cars = cars_numeric.iloc[150:]\n",
    "mse_values = list()\n",
    "for hp in hyper_params:\n",
    "    knn = KNeighborsRegressor(n_neighbors=hp)\n",
    "    knn.fit(train_cars[features], train_cars['price'])\n",
    "    predictions = knn.predict(test_cars[features])\n",
    "    mse = mean_squared_error(test_cars['price'], predictions)\n",
    "    mse_values.append(mse)\n",
    "plt.scatter(hyper_params, mse_values)\n",
    "plt.show()\n",
    "\n",
    "features = ['curb_weight', 'highway_mpg', 'city_mpg', 'width']\n",
    "hyper_params = [x for x in range(1, 25)]\n",
    "train_cars = cars_numeric.iloc[0:150]\n",
    "test_cars = cars_numeric.iloc[150:]\n",
    "mse_values = list()\n",
    "for hp in hyper_params:\n",
    "    knn = KNeighborsRegressor(n_neighbors=hp)\n",
    "    knn.fit(train_cars[features], train_cars['price'])\n",
    "    predictions = knn.predict(test_cars[features])\n",
    "    mse = mean_squared_error(test_cars['price'], predictions)\n",
    "    mse_values.append(mse)\n",
    "plt.scatter(hyper_params, mse_values)\n",
    "plt.show()\n",
    "\n",
    "features = ['curb_weight', 'highway_mpg', 'city_mpg']\n",
    "hyper_params = [x for x in range(1, 25)]\n",
    "train_cars = cars_numeric.iloc[0:150]\n",
    "test_cars = cars_numeric.iloc[150:]\n",
    "mse_values = list()\n",
    "for hp in hyper_params:\n",
    "    knn = KNeighborsRegressor(n_neighbors=hp)\n",
    "    knn.fit(train_cars[features], train_cars['price'])\n",
    "    predictions = knn.predict(test_cars[features])\n",
    "    mse = mean_squared_error(test_cars['price'], predictions)\n",
    "    mse_values.append(mse)\n",
    "plt.scatter(hyper_params, mse_values)\n",
    "plt.show()\n"
   ]
  },
  {
   "cell_type": "markdown",
   "metadata": {},
   "source": [
    "# Optimal K value\n",
    "\n",
    "Based on observing the top 3 models, it seems that for a five-feature model, a k-value of 10 is most optimal. For a four-feature model, a k-value of 13 is most optimal. For a three-feature model, a k-value of 4 is most optimal.\n"
   ]
  }
 ],
 "metadata": {
  "kernelspec": {
   "display_name": "Python 3",
   "language": "python",
   "name": "python3"
  },
  "language_info": {
   "codemirror_mode": {
    "name": "ipython",
    "version": 3
   },
   "file_extension": ".py",
   "mimetype": "text/x-python",
   "name": "python",
   "nbconvert_exporter": "python",
   "pygments_lexer": "ipython3",
   "version": "3.4.3"
  }
 },
 "nbformat": 4,
 "nbformat_minor": 2
}
